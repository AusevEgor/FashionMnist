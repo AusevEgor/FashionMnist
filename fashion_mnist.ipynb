{
 "cells": [
  {
   "cell_type": "code",
   "execution_count": 1,
   "metadata": {},
   "outputs": [],
   "source": [
    "import torch\n",
    "import pandas as pd\n",
    "import numpy as np\n",
    "import torchvision\n",
    "import torch.nn as nn\n",
    "import matplotlib.pylab as plt\n",
    "import torchvision.transforms as transforms\n",
    "from sklearn.model_selection import train_test_split"
   ]
  },
  {
   "cell_type": "code",
   "execution_count": 2,
   "metadata": {},
   "outputs": [],
   "source": [
    "IMAGE_SIZE = 16\n",
    "\n",
    "composed = transforms.Compose([transforms.Resize((IMAGE_SIZE, IMAGE_SIZE)), transforms.ToTensor()])\n",
    "target_composed = transforms.Compose([])"
   ]
  },
  {
   "cell_type": "code",
   "execution_count": 3,
   "metadata": {},
   "outputs": [],
   "source": [
    "train = torchvision.datasets.FashionMNIST('./data', download=True, train= True, \n",
    "                                               transform=composed)\n",
    "val = torchvision.datasets.FashionMNIST('./data', download=True, train= False,\n",
    "                                             transform=composed)"
   ]
  },
  {
   "cell_type": "code",
   "execution_count": 4,
   "metadata": {},
   "outputs": [],
   "source": [
    "def show_data(data_sample):\n",
    "    plt.imshow(data_sample[0].numpy().reshape(IMAGE_SIZE, IMAGE_SIZE), cmap='gray')\n",
    "    plt.title('y = '+ str(data_sample[1]))"
   ]
  },
  {
   "cell_type": "code",
   "execution_count": 5,
   "metadata": {},
   "outputs": [],
   "source": [
    "train_data = []\n",
    "train_target = []\n",
    "val_data = []\n",
    "val_target = []\n",
    "for i in range(len(train)):\n",
    "    train_data.append(np.array(train[i][0]))\n",
    "    train_target.append(np.array(train[i][1]))\n",
    "\n",
    "for i in range(len(val)):\n",
    "    val_data.append(np.array(val[i][0]))\n",
    "    val_target.append(np.array(val[i][1]))"
   ]
  },
  {
   "cell_type": "code",
   "execution_count": 6,
   "metadata": {},
   "outputs": [],
   "source": [
    "train_data = np.array(train_data)\n",
    "train_target = np.array(train_target)\n",
    "val_data = np.array(val_data)\n",
    "val_target = np.array(val_target)\n",
    "\n",
    "batch_size = 64\n",
    "torch_train_data = torch.from_numpy(train_data)\n",
    "torch_train_target = torch.from_numpy(train_target)\n",
    "torch_val_data = torch.from_numpy(val_data)\n",
    "torch_val_target = torch.from_numpy(val_target)\n",
    "\n",
    "train = torch.utils.data.TensorDataset(torch_train_data,torch_train_target)\n",
    "test = torch.utils.data.TensorDataset(torch_val_data,torch_val_target)\n",
    "\n",
    "train_loader = torch.utils.data.DataLoader(train, batch_size= batch_size)\n",
    "test_loader = torch.utils.data.DataLoader(test, batch_size = batch_size)"
   ]
  },
  {
   "cell_type": "code",
   "execution_count": 7,
   "metadata": {},
   "outputs": [
    {
     "data": {
      "image/png": "[encoded data removed]",
      "text/plain": [
       "<Figure size 432x288 with 1 Axes>"
      ]
     },
     "metadata": {
      "needs_background": "light"
     },
     "output_type": "display_data"
    }
   ],
   "source": [
    "show_data(test[0])"
   ]
  },
  {
   "cell_type": "code",
   "execution_count": 8,
   "metadata": {},
   "outputs": [
    {
     "data": {
      "image/png": "[encoded data removed]",
      "text/plain": [
       "<Figure size 432x288 with 1 Axes>"
      ]
     },
     "metadata": {
      "needs_background": "light"
     },
     "output_type": "display_data"
    }
   ],
   "source": [
    "show_data(test[1])"
   ]
  },
  {
   "cell_type": "code",
   "execution_count": 9,
   "metadata": {},
   "outputs": [
    {
     "data": {
      "image/png": "[encoded data removed]",
      "text/plain": [
       "<Figure size 432x288 with 1 Axes>"
      ]
     },
     "metadata": {
      "needs_background": "light"
     },
     "output_type": "display_data"
    }
   ],
   "source": [
    "show_data(test[2])"
   ]
  },
  {
   "cell_type": "code",
   "execution_count": 10,
   "metadata": {},
   "outputs": [],
   "source": [
    "class Net(nn.Module):\n",
    "    def __init__(self):\n",
    "        super(Net, self).__init__()\n",
    "        \n",
    "        self.relu = nn.ReLU()\n",
    "        \n",
    "        self.conv1 = nn.Conv2d(1, 32, kernel_size=3)\n",
    "        self.norm1 = nn.BatchNorm2d(32)\n",
    "    \n",
    "        self.maxpool = nn.MaxPool2d(kernel_size=2,stride=2)\n",
    "        \n",
    "        self.conv2 = nn.Conv2d(32, 64, kernel_size=3)\n",
    "        self.norm2 = nn.BatchNorm2d(64)\n",
    "        \n",
    "        \n",
    "        self.li1 = nn.Linear(5 * 5 * 64, 64)\n",
    "        self.li2 = nn.Linear(64, 10)\n",
    "        \n",
    "    def forward(self, x):\n",
    "\n",
    "        x = self.norm1(self.relu(self.conv1(x)))\n",
    "\n",
    "        x = self.maxpool(x)\n",
    "\n",
    "        x = self.norm2(self.relu(self.conv2(x)))\n",
    "\n",
    "        x = x.view(-1, 5* 5 * 64)\n",
    "        x = self.relu(self.li1(x))\n",
    "        x = self.li2(x)\n",
    "        \n",
    "        return x\n",
    "        \n",
    "        "
   ]
  },
  {
   "cell_type": "code",
   "execution_count": 11,
   "metadata": {},
   "outputs": [
    {
     "name": "stdout",
     "output_type": "stream",
     "text": [
      "Net(\n",
      "  (relu): ReLU()\n",
      "  (conv1): Conv2d(1, 32, kernel_size=(3, 3), stride=(1, 1))\n",
      "  (norm1): BatchNorm2d(32, eps=1e-05, momentum=0.1, affine=True, track_running_stats=True)\n",
      "  (maxpool): MaxPool2d(kernel_size=2, stride=2, padding=0, dilation=1, ceil_mode=False)\n",
      "  (conv2): Conv2d(32, 64, kernel_size=(3, 3), stride=(1, 1))\n",
      "  (norm2): BatchNorm2d(64, eps=1e-05, momentum=0.1, affine=True, track_running_stats=True)\n",
      "  (li1): Linear(in_features=1600, out_features=64, bias=True)\n",
      "  (li2): Linear(in_features=64, out_features=10, bias=True)\n",
      ")\n"
     ]
    }
   ],
   "source": [
    "slf = Net()\n",
    "print(slf)"
   ]
  },
  {
   "cell_type": "code",
   "execution_count": 12,
   "metadata": {},
   "outputs": [],
   "source": [
    "def train(model, data_train, data_val, epoh, loss, optim):\n",
    "    model.train()\n",
    "\n",
    "    for j in range(epoh):\n",
    "        count = .0\n",
    "        correct = .0\n",
    "        print(\"TRAIN\")\n",
    "        print('-'*20)\n",
    "        for i, dataset in enumerate(data_train):\n",
    "            \n",
    "            x, y = dataset\n",
    "            optim.zero_grad()\n",
    "            out = model(x)\n",
    "            er = loss(out, y)\n",
    "            count += er\n",
    "            er.backward()\n",
    "            optim.step()\n",
    "            \n",
    "            \n",
    "            pred = torch.max(out, 1)[1]\n",
    "            correct += (pred == y).sum()\n",
    "\n",
    "            if i % 50 == 0:\n",
    "                print('Epohe : {} [{}/{}], loss = {:.6f}, accuracy = {:.3f}'.format(j, len(y) * (i), \n",
    "                                    len(data_train.dataset), er, correct/ (len(y) * (i + 1))))\n",
    "\n",
    "        cost_train.append(er)\n",
    "        accur_train.append(correct/ len(data_train.dataset))\n",
    "        \n",
    "        total_correct = .0\n",
    "        total_er = .0\n",
    "        for x,y in data_val:\n",
    "                      \n",
    "            optim.zero_grad()\n",
    "            out = model(x)\n",
    "            total_er += loss(out, y)\n",
    "            pred = torch.max(out, 1)[1]\n",
    "            total_correct += (pred == y).sum()\n",
    "            \n",
    "        cost_val.append(total_er)\n",
    "        accur_val.append(total_correct/ len(data_val.dataset))\n",
    "        print()\n",
    "        print('VAL')\n",
    "        print('Epohe : {} [{}/{}], loss = {:.6f}, accuracy = {:.3f}'.format(j, len(data_val.dataset) , \n",
    "                                    len(data_train.dataset), total_er, total_correct/len(data_val.dataset)))\n",
    "        print()"
   ]
  },
  {
   "cell_type": "code",
   "execution_count": 13,
   "metadata": {},
   "outputs": [],
   "source": [
    "Loss = nn.CrossEntropyLoss()\n",
    "optimizer = torch.optim.SGD(slf.parameters(), lr = 0.01, momentum=0.4)"
   ]
  },
  {
   "cell_type": "code",
   "execution_count": 14,
   "metadata": {},
   "outputs": [
    {
     "name": "stdout",
     "output_type": "stream",
     "text": [
      "TRAIN\n",
      "--------------------\n",
      "Epohe : 0 [0/60000], loss = 2.290825, accuracy = 0.109\n",
      "Epohe : 0 [3200/60000], loss = 0.817894, accuracy = 0.627\n",
      "Epohe : 0 [6400/60000], loss = 0.628301, accuracy = 0.695\n",
      "Epohe : 0 [9600/60000], loss = 0.711516, accuracy = 0.721\n",
      "Epohe : 0 [12800/60000], loss = 0.392993, accuracy = 0.744\n",
      "Epohe : 0 [16000/60000], loss = 0.629111, accuracy = 0.758\n",
      "Epohe : 0 [19200/60000], loss = 0.495713, accuracy = 0.769\n",
      "Epohe : 0 [22400/60000], loss = 0.268803, accuracy = 0.779\n",
      "Epohe : 0 [25600/60000], loss = 0.457575, accuracy = 0.787\n",
      "Epohe : 0 [28800/60000], loss = 0.495582, accuracy = 0.794\n",
      "Epohe : 0 [32000/60000], loss = 0.435336, accuracy = 0.800\n",
      "Epohe : 0 [35200/60000], loss = 0.319883, accuracy = 0.806\n",
      "Epohe : 0 [38400/60000], loss = 0.338861, accuracy = 0.811\n",
      "Epohe : 0 [41600/60000], loss = 0.402261, accuracy = 0.815\n",
      "Epohe : 0 [44800/60000], loss = 0.524536, accuracy = 0.818\n",
      "Epohe : 0 [48000/60000], loss = 0.354174, accuracy = 0.821\n",
      "Epohe : 0 [51200/60000], loss = 0.457281, accuracy = 0.824\n",
      "Epohe : 0 [54400/60000], loss = 0.469165, accuracy = 0.826\n",
      "Epohe : 0 [57600/60000], loss = 0.341696, accuracy = 0.829\n",
      "\n",
      "VAL\n",
      "Epohe : 0 [10000/60000], loss = 58.381344, accuracy = 0.863\n",
      "\n",
      "TRAIN\n",
      "--------------------\n",
      "Epohe : 1 [0/60000], loss = 0.204651, accuracy = 0.906\n",
      "Epohe : 1 [3200/60000], loss = 0.417593, accuracy = 0.874\n",
      "Epohe : 1 [6400/60000], loss = 0.288448, accuracy = 0.874\n",
      "Epohe : 1 [9600/60000], loss = 0.324272, accuracy = 0.876\n",
      "Epohe : 1 [12800/60000], loss = 0.242645, accuracy = 0.876\n",
      "Epohe : 1 [16000/60000], loss = 0.442074, accuracy = 0.875\n",
      "Epohe : 1 [19200/60000], loss = 0.346976, accuracy = 0.874\n",
      "Epohe : 1 [22400/60000], loss = 0.190533, accuracy = 0.876\n",
      "Epohe : 1 [25600/60000], loss = 0.321462, accuracy = 0.877\n",
      "Epohe : 1 [28800/60000], loss = 0.311320, accuracy = 0.878\n",
      "Epohe : 1 [32000/60000], loss = 0.395482, accuracy = 0.878\n",
      "Epohe : 1 [35200/60000], loss = 0.287007, accuracy = 0.880\n",
      "Epohe : 1 [38400/60000], loss = 0.263526, accuracy = 0.880\n",
      "Epohe : 1 [41600/60000], loss = 0.299821, accuracy = 0.881\n",
      "Epohe : 1 [44800/60000], loss = 0.443075, accuracy = 0.882\n",
      "Epohe : 1 [48000/60000], loss = 0.361918, accuracy = 0.882\n",
      "Epohe : 1 [51200/60000], loss = 0.413347, accuracy = 0.883\n",
      "Epohe : 1 [54400/60000], loss = 0.358734, accuracy = 0.883\n",
      "Epohe : 1 [57600/60000], loss = 0.292110, accuracy = 0.883\n",
      "\n",
      "VAL\n",
      "Epohe : 1 [10000/60000], loss = 52.098068, accuracy = 0.879\n",
      "\n",
      "TRAIN\n",
      "--------------------\n",
      "Epohe : 2 [0/60000], loss = 0.172439, accuracy = 0.922\n",
      "Epohe : 2 [3200/60000], loss = 0.384092, accuracy = 0.891\n",
      "Epohe : 2 [6400/60000], loss = 0.264594, accuracy = 0.891\n",
      "Epohe : 2 [9600/60000], loss = 0.286076, accuracy = 0.892\n",
      "Epohe : 2 [12800/60000], loss = 0.200299, accuracy = 0.893\n",
      "Epohe : 2 [16000/60000], loss = 0.442743, accuracy = 0.893\n",
      "Epohe : 2 [19200/60000], loss = 0.288814, accuracy = 0.892\n",
      "Epohe : 2 [22400/60000], loss = 0.191019, accuracy = 0.894\n",
      "Epohe : 2 [25600/60000], loss = 0.291236, accuracy = 0.894\n",
      "Epohe : 2 [28800/60000], loss = 0.252889, accuracy = 0.895\n",
      "Epohe : 2 [32000/60000], loss = 0.366380, accuracy = 0.894\n",
      "Epohe : 2 [35200/60000], loss = 0.249741, accuracy = 0.896\n",
      "Epohe : 2 [38400/60000], loss = 0.241866, accuracy = 0.896\n",
      "Epohe : 2 [41600/60000], loss = 0.257289, accuracy = 0.897\n",
      "Epohe : 2 [44800/60000], loss = 0.366669, accuracy = 0.898\n",
      "Epohe : 2 [48000/60000], loss = 0.357120, accuracy = 0.898\n",
      "Epohe : 2 [51200/60000], loss = 0.361695, accuracy = 0.898\n",
      "Epohe : 2 [54400/60000], loss = 0.306452, accuracy = 0.898\n",
      "Epohe : 2 [57600/60000], loss = 0.268683, accuracy = 0.898\n",
      "\n",
      "VAL\n",
      "Epohe : 2 [10000/60000], loss = 48.707958, accuracy = 0.886\n",
      "\n",
      "TRAIN\n",
      "--------------------\n",
      "Epohe : 3 [0/60000], loss = 0.152650, accuracy = 0.922\n",
      "Epohe : 3 [3200/60000], loss = 0.352039, accuracy = 0.906\n",
      "Epohe : 3 [6400/60000], loss = 0.233345, accuracy = 0.905\n",
      "Epohe : 3 [9600/60000], loss = 0.237446, accuracy = 0.906\n",
      "Epohe : 3 [12800/60000], loss = 0.162598, accuracy = 0.906\n",
      "Epohe : 3 [16000/60000], loss = 0.406064, accuracy = 0.905\n",
      "Epohe : 3 [19200/60000], loss = 0.288762, accuracy = 0.903\n",
      "Epohe : 3 [22400/60000], loss = 0.179823, accuracy = 0.905\n",
      "Epohe : 3 [25600/60000], loss = 0.276681, accuracy = 0.905\n",
      "Epohe : 3 [28800/60000], loss = 0.247686, accuracy = 0.905\n",
      "Epohe : 3 [32000/60000], loss = 0.336659, accuracy = 0.905\n",
      "Epohe : 3 [35200/60000], loss = 0.213532, accuracy = 0.906\n",
      "Epohe : 3 [38400/60000], loss = 0.222695, accuracy = 0.906\n",
      "Epohe : 3 [41600/60000], loss = 0.253533, accuracy = 0.906\n",
      "Epohe : 3 [44800/60000], loss = 0.312573, accuracy = 0.907\n",
      "Epohe : 3 [48000/60000], loss = 0.340066, accuracy = 0.907\n",
      "Epohe : 3 [51200/60000], loss = 0.317285, accuracy = 0.908\n",
      "Epohe : 3 [54400/60000], loss = 0.264582, accuracy = 0.907\n",
      "Epohe : 3 [57600/60000], loss = 0.268340, accuracy = 0.907\n",
      "\n",
      "VAL\n",
      "Epohe : 3 [10000/60000], loss = 46.938290, accuracy = 0.892\n",
      "\n",
      "TRAIN\n",
      "--------------------\n",
      "Epohe : 4 [0/60000], loss = 0.133339, accuracy = 0.922\n",
      "Epohe : 4 [3200/60000], loss = 0.299779, accuracy = 0.913\n",
      "Epohe : 4 [6400/60000], loss = 0.219919, accuracy = 0.913\n",
      "Epohe : 4 [9600/60000], loss = 0.230057, accuracy = 0.914\n",
      "Epohe : 4 [12800/60000], loss = 0.142079, accuracy = 0.914\n",
      "Epohe : 4 [16000/60000], loss = 0.371295, accuracy = 0.912\n",
      "Epohe : 4 [19200/60000], loss = 0.261990, accuracy = 0.911\n",
      "Epohe : 4 [22400/60000], loss = 0.167038, accuracy = 0.912\n",
      "Epohe : 4 [25600/60000], loss = 0.280849, accuracy = 0.912\n",
      "Epohe : 4 [28800/60000], loss = 0.241202, accuracy = 0.913\n",
      "Epohe : 4 [32000/60000], loss = 0.307671, accuracy = 0.912\n",
      "Epohe : 4 [35200/60000], loss = 0.186829, accuracy = 0.913\n",
      "Epohe : 4 [38400/60000], loss = 0.211573, accuracy = 0.912\n",
      "Epohe : 4 [41600/60000], loss = 0.230226, accuracy = 0.913\n",
      "Epohe : 4 [44800/60000], loss = 0.285316, accuracy = 0.913\n",
      "Epohe : 4 [48000/60000], loss = 0.327028, accuracy = 0.913\n",
      "Epohe : 4 [51200/60000], loss = 0.283923, accuracy = 0.914\n",
      "Epohe : 4 [54400/60000], loss = 0.247059, accuracy = 0.913\n",
      "Epohe : 4 [57600/60000], loss = 0.231641, accuracy = 0.913\n",
      "\n",
      "VAL\n",
      "Epohe : 4 [10000/60000], loss = 45.912735, accuracy = 0.895\n",
      "\n",
      "TRAIN\n",
      "--------------------\n",
      "Epohe : 5 [0/60000], loss = 0.128138, accuracy = 0.938\n",
      "Epohe : 5 [3200/60000], loss = 0.277338, accuracy = 0.919\n",
      "Epohe : 5 [6400/60000], loss = 0.227576, accuracy = 0.920\n",
      "Epohe : 5 [9600/60000], loss = 0.202929, accuracy = 0.919\n",
      "Epohe : 5 [12800/60000], loss = 0.144228, accuracy = 0.918\n",
      "Epohe : 5 [16000/60000], loss = 0.350467, accuracy = 0.918\n",
      "Epohe : 5 [19200/60000], loss = 0.221611, accuracy = 0.917\n",
      "Epohe : 5 [22400/60000], loss = 0.163730, accuracy = 0.918\n",
      "Epohe : 5 [25600/60000], loss = 0.250859, accuracy = 0.918\n",
      "Epohe : 5 [28800/60000], loss = 0.246840, accuracy = 0.918\n",
      "Epohe : 5 [32000/60000], loss = 0.290108, accuracy = 0.917\n",
      "Epohe : 5 [35200/60000], loss = 0.174524, accuracy = 0.918\n",
      "Epohe : 5 [38400/60000], loss = 0.198464, accuracy = 0.917\n",
      "Epohe : 5 [41600/60000], loss = 0.226206, accuracy = 0.918\n",
      "Epohe : 5 [44800/60000], loss = 0.256635, accuracy = 0.918\n",
      "Epohe : 5 [48000/60000], loss = 0.312918, accuracy = 0.918\n",
      "Epohe : 5 [51200/60000], loss = 0.255691, accuracy = 0.919\n",
      "Epohe : 5 [54400/60000], loss = 0.206690, accuracy = 0.918\n",
      "Epohe : 5 [57600/60000], loss = 0.226083, accuracy = 0.918\n",
      "\n",
      "VAL\n",
      "Epohe : 5 [10000/60000], loss = 46.283810, accuracy = 0.895\n",
      "\n",
      "TRAIN\n",
      "--------------------\n",
      "Epohe : 6 [0/60000], loss = 0.120739, accuracy = 0.953\n",
      "Epohe : 6 [3200/60000], loss = 0.215816, accuracy = 0.918\n",
      "Epohe : 6 [6400/60000], loss = 0.219854, accuracy = 0.919\n",
      "Epohe : 6 [9600/60000], loss = 0.190278, accuracy = 0.920\n",
      "Epohe : 6 [12800/60000], loss = 0.116948, accuracy = 0.921\n",
      "Epohe : 6 [16000/60000], loss = 0.373446, accuracy = 0.920\n",
      "Epohe : 6 [19200/60000], loss = 0.212573, accuracy = 0.919\n",
      "Epohe : 6 [22400/60000], loss = 0.171543, accuracy = 0.919\n",
      "Epohe : 6 [25600/60000], loss = 0.254965, accuracy = 0.920\n",
      "Epohe : 6 [28800/60000], loss = 0.231474, accuracy = 0.920\n",
      "Epohe : 6 [32000/60000], loss = 0.296388, accuracy = 0.919\n",
      "Epohe : 6 [35200/60000], loss = 0.136625, accuracy = 0.920\n",
      "Epohe : 6 [38400/60000], loss = 0.191572, accuracy = 0.920\n",
      "Epohe : 6 [41600/60000], loss = 0.219709, accuracy = 0.921\n",
      "Epohe : 6 [44800/60000], loss = 0.241383, accuracy = 0.921\n",
      "Epohe : 6 [48000/60000], loss = 0.275810, accuracy = 0.921\n"
     ]
    },
    {
     "name": "stdout",
     "output_type": "stream",
     "text": [
      "Epohe : 6 [51200/60000], loss = 0.236146, accuracy = 0.921\n",
      "Epohe : 6 [54400/60000], loss = 0.226658, accuracy = 0.921\n",
      "Epohe : 6 [57600/60000], loss = 0.196448, accuracy = 0.921\n",
      "\n",
      "VAL\n",
      "Epohe : 6 [10000/60000], loss = 44.764244, accuracy = 0.898\n",
      "\n"
     ]
    }
   ],
   "source": [
    "cost_train = []\n",
    "cost_val = []\n",
    "accur_train = []\n",
    "accur_val = []\n",
    "train(slf, train_loader, test_loader, 7, Loss, optimizer)"
   ]
  },
  {
   "cell_type": "code",
   "execution_count": null,
   "metadata": {},
   "outputs": [],
   "source": []
  },
  {
   "cell_type": "code",
   "execution_count": 15,
   "metadata": {},
   "outputs": [
    {
     "name": "stdout",
     "output_type": "stream",
     "text": [
      "VALIDATION\n"
     ]
    },
    {
     "data": {
      "image/png": "[encoded data removed]",
      "text/plain": [
       "<Figure size 432x288 with 2 Axes>"
      ]
     },
     "metadata": {
      "needs_background": "light"
     },
     "output_type": "display_data"
    }
   ],
   "source": [
    "print('VALIDATION')\n",
    "fig, ax1 = plt.subplots()\n",
    "color = 'tab:red'\n",
    "ax1.plot(cost_val, color=color)\n",
    "ax1.set_xlabel('epoch', color=color)\n",
    "ax1.set_ylabel('Cost', color=color)\n",
    "ax1.tick_params(axis='y', color=color)\n",
    "    \n",
    "ax2 = ax1.twinx()  \n",
    "color = 'tab:blue'\n",
    "ax2.set_ylabel('accuracy', color=color) \n",
    "ax2.set_xlabel('epoch', color=color)\n",
    "ax2.plot( accur_val, color=color)\n",
    "ax2.tick_params(axis='y', color=color)\n",
    "fig.tight_layout()"
   ]
  },
  {
   "cell_type": "code",
   "execution_count": null,
   "metadata": {},
   "outputs": [],
   "source": []
  },
  {
   "cell_type": "code",
   "execution_count": null,
   "metadata": {},
   "outputs": [],
   "source": [
    "train_data[0]"
   ]
  },
  {
   "cell_type": "code",
   "execution_count": null,
   "metadata": {},
   "outputs": [],
   "source": [
    "a[0]"
   ]
  },
  {
   "cell_type": "code",
   "execution_count": null,
   "metadata": {},
   "outputs": [],
   "source": []
  },
  {
   "cell_type": "code",
   "execution_count": null,
   "metadata": {},
   "outputs": [],
   "source": []
  },
  {
   "cell_type": "code",
   "execution_count": null,
   "metadata": {},
   "outputs": [],
   "source": [
    "train"
   ]
  },
  {
   "cell_type": "code",
   "execution_count": null,
   "metadata": {},
   "outputs": [],
   "source": []
  },
  {
   "cell_type": "code",
   "execution_count": null,
   "metadata": {},
   "outputs": [],
   "source": []
  }
 ],
 "metadata": {
  "kernelspec": {
   "display_name": "Python 3",
   "language": "python",
   "name": "python3"
  },
  "language_info": {
   "codemirror_mode": {
    "name": "ipython",
    "version": 3
   },
   "file_extension": ".py",
   "mimetype": "text/x-python",
   "name": "python",
   "nbconvert_exporter": "python",
   "pygments_lexer": "ipython3",
   "version": "3.7.4"
  }
 },
 "nbformat": 4,
 "nbformat_minor": 2
}
